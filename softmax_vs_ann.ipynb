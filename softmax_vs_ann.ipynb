{
 "cells": [
  {
   "cell_type": "markdown",
   "id": "60f6c9c8-3f54-4ab7-bc64-cfb254f47b43",
   "metadata": {},
   "source": [
    "## ANN vs softmax"
   ]
  },
  {
   "cell_type": "markdown",
   "id": "9d63e1e8-c9d4-4d38-bf82-5e7f8b4ec139",
   "metadata": {},
   "source": [
    "The goal of this notebook is to asses if it possible to scale llm to 500k+ vocab size without sacrifying on inference speed.\n",
    "\n",
    "The main idea is to say that \n",
    "\n",
    "Max(softmax(nn.linear.forward(emebdding)) ~= vector search over the linear matrix rows.\n",
    "\n",
    "Therefore if the vocab size grow too much we could use ann (approximate nearest neighbors)"
   ]
  },
  {
   "cell_type": "code",
   "execution_count": 1,
   "id": "0b4aba18-d52c-4dbf-9917-5d1270da6300",
   "metadata": {},
   "outputs": [],
   "source": [
    "#!pip install hnswlib"
   ]
  },
  {
   "cell_type": "code",
   "execution_count": 2,
   "id": "82b2dfcd-92c8-483a-8050-6c4814452217",
   "metadata": {
    "scrolled": true
   },
   "outputs": [],
   "source": [
    "import torch\n",
    "import torch.utils.benchmark as benchmark\n",
    "from jaxtyping import Float, Int\n",
    "from torch import Tensor, nn\n",
    "from torchinfo import summary\n",
    "import numpy as np\n",
    "import hnswlib"
   ]
  },
  {
   "cell_type": "code",
   "execution_count": 3,
   "id": "30fa2df9-a293-40ae-aa67-b9cf1d7e4917",
   "metadata": {},
   "outputs": [
    {
     "data": {
      "text/plain": [
       "'NVIDIA GeForce RTX 3090'"
      ]
     },
     "execution_count": 3,
     "metadata": {},
     "output_type": "execute_result"
    }
   ],
   "source": [
    "torch.cuda.get_device_name()"
   ]
  },
  {
   "cell_type": "code",
   "execution_count": 4,
   "id": "5dabb22a-a073-4ae4-9f7d-614c339ba0be",
   "metadata": {},
   "outputs": [],
   "source": [
    "device = \"cuda\""
   ]
  },
  {
   "cell_type": "code",
   "execution_count": 5,
   "id": "3e70964b-9a81-40ba-ae4c-45590b6858bf",
   "metadata": {},
   "outputs": [],
   "source": [
    "torch.set_default_device(device)"
   ]
  },
  {
   "cell_type": "code",
   "execution_count": 6,
   "id": "e25414ea-1acd-4a6a-b0d7-53a4c731492a",
   "metadata": {},
   "outputs": [],
   "source": [
    "torch.set_default_dtype(torch.bfloat16)"
   ]
  },
  {
   "cell_type": "code",
   "execution_count": 7,
   "id": "127588c6-3db5-4e4a-a18c-0d25d5214aba",
   "metadata": {},
   "outputs": [
    {
     "data": {
      "text/plain": [
       "<torch.autograd.grad_mode.set_grad_enabled at 0x7fee9616e610>"
      ]
     },
     "execution_count": 7,
     "metadata": {},
     "output_type": "execute_result"
    }
   ],
   "source": [
    "torch.set_grad_enabled(False)"
   ]
  },
  {
   "cell_type": "markdown",
   "id": "bad4f6bf-83d9-4ddb-937c-4c6173f7cb88",
   "metadata": {},
   "source": [
    "## nn.Linear vs exact vector search\n"
   ]
  },
  {
   "cell_type": "code",
   "execution_count": 8,
   "id": "3faf322b-b82b-4fc8-ab71-c6f8878ef2e9",
   "metadata": {},
   "outputs": [],
   "source": [
    "vocab_size = 500_000\n",
    "embed_size = 4096"
   ]
  },
  {
   "cell_type": "code",
   "execution_count": 9,
   "id": "1fc98bc1-1071-42ba-8bb6-3d6970a34e53",
   "metadata": {},
   "outputs": [],
   "source": [
    "class ClassificationHead(nn.Module):\n",
    "    def __init__(self, vocab_size: int, embed_size: int):\n",
    "        super().__init__()\n",
    "\n",
    "        self.linear = nn.Linear(embed_size, vocab_size)\n",
    "\n",
    "    def forward(\n",
    "        self, x: Float[Tensor, \"batch embed_size\"]\n",
    "    ) -> Int[Tensor, \"batch classes\"]:\n",
    "        \n",
    "        y = self.linear(x)\n",
    "        return y.softmax(dim=1).max(dim=1).indices\n",
    "\n",
    "    def forward_nn(\n",
    "        self, x: Float[Tensor, \"batch embed_size\"]\n",
    "    ) -> Int[Tensor, \"batch classes\"]:\n",
    "        \n",
    "        y = self.linear(x)\n",
    "        return y.max(dim=1).indices"
   ]
  },
  {
   "cell_type": "code",
   "execution_count": 10,
   "id": "3e60e81b-0d88-4bd4-b32f-ddab962eae05",
   "metadata": {},
   "outputs": [],
   "source": [
    "head = ClassificationHead(vocab_size, embed_size)"
   ]
  },
  {
   "cell_type": "code",
   "execution_count": 11,
   "id": "6272be7d-5cf9-43dd-8244-a6a4e509f3d8",
   "metadata": {},
   "outputs": [],
   "source": [
    "x = torch.rand(8, embed_size)"
   ]
  },
  {
   "cell_type": "code",
   "execution_count": 12,
   "id": "c62e2848-0bdf-49ee-b22e-85a279a3f18f",
   "metadata": {},
   "outputs": [
    {
     "data": {
      "text/plain": [
       "True"
      ]
     },
     "execution_count": 12,
     "metadata": {},
     "output_type": "execute_result"
    }
   ],
   "source": [
    "y1 = head.forward(x)\n",
    "y2 = head.forward_nn(x)\n",
    "torch.allclose(y1, y2)"
   ]
  },
  {
   "cell_type": "code",
   "execution_count": 13,
   "id": "466cd656-2da4-402f-ac62-af0d547af60c",
   "metadata": {},
   "outputs": [
    {
     "data": {
      "text/plain": [
       "<torch.utils.benchmark.utils.common.Measurement object at 0x7fee96a86250>\n",
       "head.forward_nn(x)\n",
       "  5.17 ms\n",
       "  1 measurement, 100 runs , 1 thread"
      ]
     },
     "execution_count": 13,
     "metadata": {},
     "output_type": "execute_result"
    }
   ],
   "source": [
    "t1 = benchmark.Timer(\n",
    "    stmt=\"head.forward_nn(x)\",\n",
    "    globals={\"x\": x, \"head\":head}\n",
    ")\n",
    "t1.timeit(100)"
   ]
  },
  {
   "cell_type": "code",
   "execution_count": 14,
   "id": "76e7b469-d1ea-4f78-afd2-2c8ada4870b4",
   "metadata": {},
   "outputs": [
    {
     "data": {
      "text/plain": [
       "<torch.utils.benchmark.utils.common.Measurement object at 0x7fee961617d0>\n",
       "head.forward(x)\n",
       "  5.27 ms\n",
       "  1 measurement, 100 runs , 1 thread"
      ]
     },
     "execution_count": 14,
     "metadata": {},
     "output_type": "execute_result"
    }
   ],
   "source": [
    "t2 = benchmark.Timer(\n",
    "    stmt=\"head.forward(x)\",\n",
    "    globals={\"x\": x, \"head\":head}\n",
    ")\n",
    "t2.timeit(100)"
   ]
  },
  {
   "cell_type": "code",
   "execution_count": 15,
   "id": "e6980b65-84e3-4df8-a17a-1b962edfdcb3",
   "metadata": {
    "scrolled": true
   },
   "outputs": [
    {
     "data": {
      "text/plain": [
       "==========================================================================================\n",
       "Layer (type:depth-idx)                   Output Shape              Param #\n",
       "==========================================================================================\n",
       "ClassificationHead                       [8]                       --\n",
       "├─Linear: 1-1                            [8, 500000]               2,048,500,000\n",
       "==========================================================================================\n",
       "Total params: 2,048,500,000\n",
       "Trainable params: 2,048,500,000\n",
       "Non-trainable params: 0\n",
       "Total mult-adds (Units.GIGABYTES): 16.39\n",
       "==========================================================================================\n",
       "Input size (MB): 0.07\n",
       "Forward/backward pass size (MB): 16.00\n",
       "Params size (MB): 4097.00\n",
       "Estimated Total Size (MB): 4113.07\n",
       "=========================================================================================="
      ]
     },
     "execution_count": 15,
     "metadata": {},
     "output_type": "execute_result"
    }
   ],
   "source": [
    "summary(head, input_data=x, dtypes=[torch.bfloat16])"
   ]
  },
  {
   "cell_type": "markdown",
   "id": "b20d40f5-355d-4ce1-9682-b8b934823824",
   "metadata": {},
   "source": [
    "## nn.Lienear vs Ann"
   ]
  },
  {
   "cell_type": "code",
   "execution_count": 16,
   "id": "f2974185-20c2-4419-88a7-61bc660a989e",
   "metadata": {},
   "outputs": [],
   "source": [
    "class ClassificationHead:\n",
    "\n",
    "    def __init__(self, linear: nn.Linear):\n",
    "        weight_array = linear.weight.data.detach().to(torch.float32).cpu().numpy()\n",
    "        \n",
    "        num_elements, dim = weight_array.shape\n",
    "\n",
    "        print(\"start indexing\")\n",
    "        self.index = hnswlib.Index(space='ip', dim=dim)\n",
    "        self.index.init_index(max_elements=num_elements, ef_construction=200, M=16)\n",
    "\n",
    "        print(\"add index\")\n",
    "\n",
    "        # Adding the weight vectors to the index\n",
    "        self.index.add_items(weight_array)\n",
    "        self.index.set_ef(50)\n",
    "\n",
    "    def forward(\n",
    "        self, x: Float[np.ndarray, \"batch embed_size\"]\n",
    "    ) -> Int[np.ndarray, \"batch classes\"]:  \n",
    "        labels, _ = self.index.knn_query(x, k=1)\n",
    "        return labels\n",
    "        "
   ]
  },
  {
   "cell_type": "code",
   "execution_count": 17,
   "id": "04b1985f-9988-4347-86e2-2b2fb50847d2",
   "metadata": {},
   "outputs": [
    {
     "name": "stdout",
     "output_type": "stream",
     "text": [
      "start indexing\n",
      "add index\n",
      "CPU times: user 7h 48min 17s, sys: 39.2 s, total: 7h 48min 56s\n",
      "Wall time: 30min 51s\n"
     ]
    }
   ],
   "source": [
    "%%time\n",
    "head_hnsw = ClassificationHead(head.linear)"
   ]
  },
  {
   "cell_type": "code",
   "execution_count": 18,
   "id": "2d04c27e-3a2d-4cbd-ab6a-ec35f2958656",
   "metadata": {},
   "outputs": [],
   "source": [
    "x_hnsw = x.to(torch.float32).cpu().numpy()"
   ]
  },
  {
   "cell_type": "code",
   "execution_count": 19,
   "id": "5ba49a69-3e74-462b-a16c-fcfcf2ac63bf",
   "metadata": {},
   "outputs": [
    {
     "name": "stdout",
     "output_type": "stream",
     "text": [
      "CPU times: user 9.78 ms, sys: 0 ns, total: 9.78 ms\n",
      "Wall time: 9.58 ms\n"
     ]
    }
   ],
   "source": [
    "%%time\n",
    "y3 = head_hnsw.forward(x_hnsw)"
   ]
  },
  {
   "cell_type": "code",
   "execution_count": 20,
   "id": "6c12b401-704c-451d-a162-924037422d73",
   "metadata": {},
   "outputs": [],
   "source": [
    "y1_np = y2.to(torch.float32).cpu().numpy()"
   ]
  },
  {
   "cell_type": "code",
   "execution_count": 21,
   "id": "8b7d2e89-3d52-4489-9acf-f8af6daa67b2",
   "metadata": {},
   "outputs": [
    {
     "data": {
      "text/plain": [
       "(8,)"
      ]
     },
     "execution_count": 21,
     "metadata": {},
     "output_type": "execute_result"
    }
   ],
   "source": [
    "y1_np.shape"
   ]
  },
  {
   "cell_type": "code",
   "execution_count": 22,
   "id": "ffd11140-e8fd-42ca-ab43-bd3e3d113ff0",
   "metadata": {},
   "outputs": [
    {
     "data": {
      "text/plain": [
       "(8,)"
      ]
     },
     "execution_count": 22,
     "metadata": {},
     "output_type": "execute_result"
    }
   ],
   "source": [
    "y3.flatten().shape"
   ]
  },
  {
   "cell_type": "code",
   "execution_count": 23,
   "id": "c59e91ea-5351-4914-a7fc-92f41f5b06b6",
   "metadata": {},
   "outputs": [
    {
     "ename": "AssertionError",
     "evalue": "\nNot equal to tolerance rtol=1e-07, atol=0\n\nMismatched elements: 8 / 8 (100%)\nMax absolute difference: 388007.\nMax relative difference: 2.90451677\n x: array([153840., 192137., 228301.,  71834., 123258., 423469.,  71834.,\n        71834.], dtype=float32)\n y: array([ 44385, 228402,  58471, 298397, 468588, 124622,  67025, 459841],\n      dtype=uint64)",
     "output_type": "error",
     "traceback": [
      "\u001b[0;31m---------------------------------------------------------------------------\u001b[0m",
      "\u001b[0;31mAssertionError\u001b[0m                            Traceback (most recent call last)",
      "Cell \u001b[0;32mIn[23], line 1\u001b[0m\n\u001b[0;32m----> 1\u001b[0m \u001b[43mnp\u001b[49m\u001b[38;5;241;43m.\u001b[39;49m\u001b[43mtesting\u001b[49m\u001b[38;5;241;43m.\u001b[39;49m\u001b[43massert_allclose\u001b[49m\u001b[43m(\u001b[49m\u001b[43my1_np\u001b[49m\u001b[43m,\u001b[49m\u001b[43m \u001b[49m\u001b[43my3\u001b[49m\u001b[38;5;241;43m.\u001b[39;49m\u001b[43mflatten\u001b[49m\u001b[43m(\u001b[49m\u001b[43m)\u001b[49m\u001b[43m)\u001b[49m\n",
      "    \u001b[0;31m[... skipping hidden 1 frame]\u001b[0m\n",
      "File \u001b[0;32m~/.pyenv/versions/3.11.4/lib/python3.11/contextlib.py:81\u001b[0m, in \u001b[0;36mContextDecorator.__call__.<locals>.inner\u001b[0;34m(*args, **kwds)\u001b[0m\n\u001b[1;32m     78\u001b[0m \u001b[38;5;129m@wraps\u001b[39m(func)\n\u001b[1;32m     79\u001b[0m \u001b[38;5;28;01mdef\u001b[39;00m \u001b[38;5;21minner\u001b[39m(\u001b[38;5;241m*\u001b[39margs, \u001b[38;5;241m*\u001b[39m\u001b[38;5;241m*\u001b[39mkwds):\n\u001b[1;32m     80\u001b[0m     \u001b[38;5;28;01mwith\u001b[39;00m \u001b[38;5;28mself\u001b[39m\u001b[38;5;241m.\u001b[39m_recreate_cm():\n\u001b[0;32m---> 81\u001b[0m         \u001b[38;5;28;01mreturn\u001b[39;00m \u001b[43mfunc\u001b[49m\u001b[43m(\u001b[49m\u001b[38;5;241;43m*\u001b[39;49m\u001b[43margs\u001b[49m\u001b[43m,\u001b[49m\u001b[43m \u001b[49m\u001b[38;5;241;43m*\u001b[39;49m\u001b[38;5;241;43m*\u001b[39;49m\u001b[43mkwds\u001b[49m\u001b[43m)\u001b[49m\n",
      "File \u001b[0;32m~/Workspaces/perso/sandbox/.venv/lib/python3.11/site-packages/numpy/testing/_private/utils.py:797\u001b[0m, in \u001b[0;36massert_array_compare\u001b[0;34m(comparison, x, y, err_msg, verbose, header, precision, equal_nan, equal_inf, strict)\u001b[0m\n\u001b[1;32m    793\u001b[0m         err_msg \u001b[38;5;241m+\u001b[39m\u001b[38;5;241m=\u001b[39m \u001b[38;5;124m'\u001b[39m\u001b[38;5;130;01m\\n\u001b[39;00m\u001b[38;5;124m'\u001b[39m \u001b[38;5;241m+\u001b[39m \u001b[38;5;124m'\u001b[39m\u001b[38;5;130;01m\\n\u001b[39;00m\u001b[38;5;124m'\u001b[39m\u001b[38;5;241m.\u001b[39mjoin(remarks)\n\u001b[1;32m    794\u001b[0m         msg \u001b[38;5;241m=\u001b[39m build_err_msg([ox, oy], err_msg,\n\u001b[1;32m    795\u001b[0m                             verbose\u001b[38;5;241m=\u001b[39mverbose, header\u001b[38;5;241m=\u001b[39mheader,\n\u001b[1;32m    796\u001b[0m                             names\u001b[38;5;241m=\u001b[39m(\u001b[38;5;124m'\u001b[39m\u001b[38;5;124mx\u001b[39m\u001b[38;5;124m'\u001b[39m, \u001b[38;5;124m'\u001b[39m\u001b[38;5;124my\u001b[39m\u001b[38;5;124m'\u001b[39m), precision\u001b[38;5;241m=\u001b[39mprecision)\n\u001b[0;32m--> 797\u001b[0m         \u001b[38;5;28;01mraise\u001b[39;00m \u001b[38;5;167;01mAssertionError\u001b[39;00m(msg)\n\u001b[1;32m    798\u001b[0m \u001b[38;5;28;01mexcept\u001b[39;00m \u001b[38;5;167;01mValueError\u001b[39;00m:\n\u001b[1;32m    799\u001b[0m     \u001b[38;5;28;01mimport\u001b[39;00m \u001b[38;5;21;01mtraceback\u001b[39;00m\n",
      "\u001b[0;31mAssertionError\u001b[0m: \nNot equal to tolerance rtol=1e-07, atol=0\n\nMismatched elements: 8 / 8 (100%)\nMax absolute difference: 388007.\nMax relative difference: 2.90451677\n x: array([153840., 192137., 228301.,  71834., 123258., 423469.,  71834.,\n        71834.], dtype=float32)\n y: array([ 44385, 228402,  58471, 298397, 468588, 124622,  67025, 459841],\n      dtype=uint64)"
     ]
    }
   ],
   "source": [
    "np.testing.assert_allclose(y1_np, y3.flatten())"
   ]
  }
 ],
 "metadata": {
  "kernelspec": {
   "display_name": "Python 3 (ipykernel)",
   "language": "python",
   "name": "python3"
  },
  "language_info": {
   "codemirror_mode": {
    "name": "ipython",
    "version": 3
   },
   "file_extension": ".py",
   "mimetype": "text/x-python",
   "name": "python",
   "nbconvert_exporter": "python",
   "pygments_lexer": "ipython3",
   "version": "3.11.4"
  }
 },
 "nbformat": 4,
 "nbformat_minor": 5
}
