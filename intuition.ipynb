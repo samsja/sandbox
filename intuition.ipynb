{
 "cells": [
  {
   "cell_type": "code",
   "execution_count": 248,
   "id": "4345e09e-377f-479b-9886-1de29c4bad70",
   "metadata": {},
   "outputs": [],
   "source": [
    "import random\n",
    "\n",
    "import torch\n",
    "from torch.utils.data import DataLoader, Dataset"
   ]
  },
  {
   "cell_type": "code",
   "execution_count": 139,
   "id": "91ee503d-984e-4d83-a6dc-f73b39efad13",
   "metadata": {},
   "outputs": [],
   "source": [
    "OPERAND = [\"+\", \"//\", \"*\", \"%\"]"
   ]
  },
  {
   "cell_type": "code",
   "execution_count": 140,
   "id": "ff9de7f2-a6f4-40c1-921c-d63f54700c39",
   "metadata": {},
   "outputs": [],
   "source": [
    "def data_gen(max_pow, operand: list[str]):\n",
    "    i = random.randint(0, len(operand) - 1)\n",
    "\n",
    "    operand = operand[i]\n",
    "\n",
    "    left = str(random.randint(0, 10**max_pow))\n",
    "    right = str(random.randint(0, 10**max_pow))\n",
    "\n",
    "    code = left + operand + right\n",
    "\n",
    "    return code, str(eval(code))"
   ]
  },
  {
   "cell_type": "code",
   "execution_count": 141,
   "id": "26b071bd-9f31-4da8-85f1-cfbf1f216d26",
   "metadata": {},
   "outputs": [
    {
     "data": {
      "text/plain": [
       "('745//63', '11')"
      ]
     },
     "execution_count": 141,
     "metadata": {},
     "output_type": "execute_result"
    }
   ],
   "source": [
    "data_gen(3, OPERAND)"
   ]
  },
  {
   "cell_type": "code",
   "execution_count": 285,
   "id": "ac66065b-6984-48c7-b61e-ea8c66587e6f",
   "metadata": {},
   "outputs": [],
   "source": [
    "class MathTokenizer:\n",
    "    max_digit = 10\n",
    "\n",
    "    def __init__(self, operand: list[str]):\n",
    "        self.vocab = {str(i): i for i in range(self.max_digit)}\n",
    "        for i, op in enumerate(operand):\n",
    "            self.vocab[op] = self.max_digit + i\n",
    "\n",
    "        self.vocab[\"/\"] = self.vocab[\"//\"]\n",
    "        del self.vocab[\"//\"]\n",
    "\n",
    "        self.vocab[\"P\"] = self.max_digit + len(operand)\n",
    "        \n",
    "        self.anti_vocab = {value: key for key, value in self.vocab.items()}\n",
    "        \n",
    "        self.vocab_size = len(self.vocab) \n",
    "\n",
    "    def encode(self, x: str) -> list[int]:\n",
    "        x.replace(\"//\", \"/\")\n",
    "        return list(map(lambda x: self.vocab[x], list(x)))\n",
    "\n",
    "    def decode(self, x: list[int]) -> list[str]:\n",
    "        decoded = list(map(lambda x: self.anti_vocab[x], list(x)))\n",
    "        return \"\".join(decoded)"
   ]
  },
  {
   "cell_type": "code",
   "execution_count": 286,
   "id": "39c78ccf-ce0c-4287-aaa6-a9d4dbb0137a",
   "metadata": {},
   "outputs": [],
   "source": [
    "tokenizer = MathTokenizer(OPERAND)"
   ]
  },
  {
   "cell_type": "code",
   "execution_count": 287,
   "id": "5ce10e54-5a63-40dd-9355-a4c08bd34f7e",
   "metadata": {},
   "outputs": [
    {
     "data": {
      "text/plain": [
       "'563*88'"
      ]
     },
     "execution_count": 287,
     "metadata": {},
     "output_type": "execute_result"
    }
   ],
   "source": [
    "tokenizer.decode(tokenizer.encode(data_gen(3, OPERAND)[0]))"
   ]
  },
  {
   "cell_type": "code",
   "execution_count": 288,
   "id": "5e6e6827-af9e-4ef4-b843-8ab5caf439ea",
   "metadata": {},
   "outputs": [],
   "source": [
    "class MathDataset(Dataset):\n",
    "    def __init__(self, lenght, max_pow):\n",
    "        self.n = lenght\n",
    "        self.max_pow = max_pow\n",
    "\n",
    "        self.tokenizer = MathTokenizer(OPERAND)\n",
    "\n",
    "    def __getitem__(self, index):\n",
    "        code, result = data_gen(self.max_pow, OPERAND)\n",
    "        return self.tokenizer.encode(code), self.tokenizer.encode(result)\n",
    "\n",
    "    def __len__(self):\n",
    "        return self.n"
   ]
  },
  {
   "cell_type": "code",
   "execution_count": 289,
   "id": "2a9dcd98-bfa2-4f60-b25e-bf962c9dc46a",
   "metadata": {},
   "outputs": [],
   "source": [
    "def collate_fn(batch, pad_token):\n",
    "    # Example: Sum the data from the batch    \n",
    "    print(batch)\n",
    "    return batch"
   ]
  },
  {
   "cell_type": "code",
   "execution_count": 290,
   "id": "56a5f1b3-9ae1-4c51-b7c0-29b8bc9be5de",
   "metadata": {},
   "outputs": [],
   "source": [
    "dataset = MathDataset(10, 3)"
   ]
  },
  {
   "cell_type": "code",
   "execution_count": 291,
   "id": "180af0ef-1733-461b-8160-4462be311436",
   "metadata": {},
   "outputs": [],
   "source": [
    "dataloader = DataLoader(dataset, batch_size=4, shuffle=True, collate_fn=collate_fn)"
   ]
  },
  {
   "cell_type": "code",
   "execution_count": 292,
   "id": "5438460a-5db1-4824-8a67-3cbe8aa71958",
   "metadata": {},
   "outputs": [
    {
     "name": "stdout",
     "output_type": "stream",
     "text": [
      "[([5, 3, 8, 13, 4, 7, 1], [6, 7]), ([2, 1, 8, 12, 2, 4, 7], [5, 3, 8, 4, 6]), ([5, 6, 7, 10, 3, 0, 9], [8, 7, 6]), ([3, 9, 2, 10, 4, 0], [4, 3, 2])]\n",
      "[([6, 2, 12, 6, 1, 2], [3, 7, 9, 4, 4]), ([1, 0, 2, 11, 11, 3, 0, 0], [0]), ([7, 0, 4, 12, 3, 8, 1], [2, 6, 8, 2, 2, 4]), ([4, 5, 3, 11, 11, 9, 7, 7], [0])]\n",
      "[([7, 4, 7, 10, 3, 7, 9], [1, 1, 2, 6]), ([3, 9, 10, 6, 1, 0], [6, 4, 9])]\n"
     ]
    }
   ],
   "source": [
    "for data in dataloader:\n",
    "    pass"
   ]
  },
  {
   "cell_type": "code",
   "execution_count": null,
   "id": "53747a2c-8de7-489a-9d19-f57a78e6eb27",
   "metadata": {},
   "outputs": [],
   "source": []
  }
 ],
 "metadata": {
  "kernelspec": {
   "display_name": "Python 3 (ipykernel)",
   "language": "python",
   "name": "python3"
  },
  "language_info": {
   "codemirror_mode": {
    "name": "ipython",
    "version": 3
   },
   "file_extension": ".py",
   "mimetype": "text/x-python",
   "name": "python",
   "nbconvert_exporter": "python",
   "pygments_lexer": "ipython3",
   "version": "3.11.4"
  }
 },
 "nbformat": 4,
 "nbformat_minor": 5
}
